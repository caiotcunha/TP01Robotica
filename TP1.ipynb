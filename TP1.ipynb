{
 "cells": [
  {
   "cell_type": "code",
   "execution_count": 39,
   "id": "6d6aeebf-b2ab-4a55-9a73-b51f78d56659",
   "metadata": {},
   "outputs": [],
   "source": [
    "import numpy as np\n",
    "import matplotlib.pyplot as plt"
   ]
  },
  {
   "cell_type": "code",
   "execution_count": 40,
   "id": "e611f285-a662-4c90-bf08-4f01380371ef",
   "metadata": {},
   "outputs": [],
   "source": [
    "try:\n",
    "    import sim\n",
    "except:\n",
    "    print ('--------------------------------------------------------------')\n",
    "    print ('\"sim.py\" could not be imported. This means very probably that')\n",
    "    print ('either \"sim.py\" or the remoteApi library could not be found.')\n",
    "    print ('Make sure both are in the same folder as this file,')\n",
    "    print ('or appropriately adjust the file \"sim.py\"')\n",
    "    print ('--------------------------------------------------------------')\n",
    "    print ('')\n",
    "\n",
    "import time"
   ]
  },
  {
   "cell_type": "markdown",
   "id": "32a0087c-ff73-44a8-abef-5cca4ae7a8e1",
   "metadata": {},
   "source": [
    "### Funções de Matriz de rotação e plotagem"
   ]
  },
  {
   "cell_type": "code",
   "execution_count": 41,
   "id": "8b585c7f-8c6f-4131-a0c2-667246cf4d69",
   "metadata": {},
   "outputs": [],
   "source": [
    "\n",
    "def Rx(theta):\n",
    " \n",
    "    return np.array([[  1, 0            , 0           ],\n",
    "                      [ 0, np.cos(theta),-np.sin(theta)],\n",
    "                      [ 0, np.sin(theta), np.cos(theta)]])\n",
    "  \n",
    "def Ry(theta):\n",
    " \n",
    "    return np.array([[  np.cos(theta), 0, np.sin(theta)],\n",
    "                      [ 0            , 1, 0           ],\n",
    "                      [-np.sin(theta), 0, np.cos(theta)]])\n",
    "\n",
    "\n",
    "def Rz(theta):\n",
    "  \n",
    "    return np.array([[ np.cos(theta), -np.sin(theta), 0 ],\n",
    "                      [ np.sin(theta), np.cos(theta) , 0 ],\n",
    "                      [ 0            , 0             , 1 ]])\n",
    "\n",
    "# Plota um referencial no plano\n",
    "def plot_frame(Porg, R, c=None):\n",
    "\n",
    "    axis_size = 1.0    \n",
    "    axes = axis_size*R\n",
    "    \n",
    "    x_axis = np.array(axes[0:2,0])\n",
    "    y_axis = np.array(axes[0:2,1])\n",
    "    \n",
    "    if c == None:\n",
    "        c = ['r', 'g']\n",
    "    \n",
    "    # X\n",
    "    plt.quiver(*Porg[0:2], *x_axis, color=c[0], angles='xy', scale_units='xy', scale=1)\n",
    "    \n",
    "    # Y\n",
    "    plt.quiver(*Porg[0:2], *y_axis, color=c[1], angles='xy', scale_units='xy', scale=1)\n",
    "    \n"
   ]
  },
  {
   "cell_type": "markdown",
   "id": "4552eadb-27d9-49f8-8549-3eb0e78eab0f",
   "metadata": {},
   "source": [
    "### Função para obter posição, angulos de euler e plotar referenciais"
   ]
  },
  {
   "cell_type": "code",
   "execution_count": 53,
   "id": "5fd36c46-5aa2-4ac8-bf43-030c5b994df1",
   "metadata": {},
   "outputs": [],
   "source": [
    "def plot_object_frame(clientID,nameObject):\n",
    "    # Pega Handle do objeto\n",
    "    returnCode, objectHandle = sim.simxGetObjectHandle(clientID, nameObject, sim.simx_opmode_oneshot_wait)\n",
    "    \n",
    "    # Euler Angles\n",
    "    returnCode,eulerAngles=sim.simxGetObjectOrientation(clientID,objectHandle,-1,sim.simx_opmode_oneshot_wait)\n",
    "    \n",
    "    # Position\n",
    "    returnCode,position=sim.simxGetObjectPosition(clientID,objectHandle,-1,sim.simx_opmode_oneshot_wait)\n",
    "\n",
    "    print(position)\n",
    "\n",
    "    # Frame Object\n",
    "    Porg = np.array(position)    \n",
    "    R = Rz(eulerAngles[2])\n",
    "    plot_frame(Porg, R)"
   ]
  },
  {
   "cell_type": "code",
   "execution_count": 55,
   "id": "352a58b4-5489-4a2c-b003-85cfd00706f0",
   "metadata": {},
   "outputs": [
    {
     "name": "stdout",
     "output_type": "stream",
     "text": [
      "Program started\n",
      "Connected to remote API server\n",
      "[0.007537084631621838, -1.4679468870162964, 0.13869395852088928]\n",
      "[-1.5499998331069946, -0.8750000596046448, 0.16500011086463928]\n",
      "[-1.25, 1.5500006675720215, 0.4500003755092621]\n",
      "[1.75, 1.4750006198883057, 0.4500003755092621]\n",
      "[0.07499994337558746, 1.225000023841858, 0.3749954402446747]\n",
      "Program ended\n"
     ]
    },
    {
     "data": {
      "image/png": "[encoded data removed]",
      "text/plain": [
       "<Figure size 640x480 with 1 Axes>"
      ]
     },
     "metadata": {},
     "output_type": "display_data"
    }
   ],
   "source": [
    "print ('Program started')\n",
    "sim.simxFinish(-1) # just in case, close all opened connections\n",
    "clientID=sim.simxStart('127.0.0.1',19999,True,True,5000,5) # Connect to CoppeliaSim\n",
    "\n",
    "if clientID!=-1:\n",
    "    print ('Connected to remote API server')\n",
    "    \n",
    "    # Iniciando a simulação\n",
    "\n",
    "    # Plot Robo Pioneer\n",
    "    plot_object_frame(clientID,'Pioneer_p3dx')\n",
    "\n",
    "    # Plot Plant\n",
    "    plot_object_frame(clientID,'indoorPlant')\n",
    "\n",
    "    # Plot Chair[0]\n",
    "    plot_object_frame(clientID,'/diningChair{0}')\n",
    "\n",
    "    # Plot Chair[1]\n",
    "    plot_object_frame(clientID,'/diningChair{1}')\n",
    "\n",
    "    # Plot Table\n",
    "    plot_object_frame(clientID,'diningTable')\n",
    "\n",
    "    plt.axis('scaled')\n",
    "    plt.axis((-3, 3, -3, 3))\n",
    "    \n",
    "    # Parando a simulação     \n",
    "    sim.simxStopSimulation(clientID,sim.simx_opmode_blocking)         \n",
    "        \n",
    "    # Now close the connection to CoppeliaSim:\n",
    "    sim.simxFinish(clientID)\n",
    "    \n",
    "else:\n",
    "    print ('Failed connecting to remote API server')\n",
    "    \n",
    "print ('Program ended')"
   ]
  },
  {
   "cell_type": "code",
   "execution_count": null,
   "id": "4af69413-b261-45b9-afb0-d1f4c0402a76",
   "metadata": {},
   "outputs": [],
   "source": []
  }
 ],
 "metadata": {
  "kernelspec": {
   "display_name": "Python 3 (ipykernel)",
   "language": "python",
   "name": "python3"
  },
  "language_info": {
   "codemirror_mode": {
    "name": "ipython",
    "version": 3
   },
   "file_extension": ".py",
   "mimetype": "text/x-python",
   "name": "python",
   "nbconvert_exporter": "python",
   "pygments_lexer": "ipython3",
   "version": "3.10.12"
  }
 },
 "nbformat": 4,
 "nbformat_minor": 5
}
